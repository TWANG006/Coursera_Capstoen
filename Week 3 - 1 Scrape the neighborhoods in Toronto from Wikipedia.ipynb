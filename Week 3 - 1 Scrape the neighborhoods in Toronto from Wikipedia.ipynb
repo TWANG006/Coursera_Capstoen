{
 "cells": [
  {
   "cell_type": "markdown",
   "metadata": {},
   "source": [
    "# Scraping the neighborhoods in Toronto"
   ]
  },
  {
   "cell_type": "markdown",
   "metadata": {},
   "source": [
    "## 1. Import the required libraries\n",
    " 1. BeatifulSoup for parsing the html\n",
    " 2. Requests to get the handle of the webpage that is to be used in BeautifulSoup\n",
    " 3. Pandas is used to generate the final data frame"
   ]
  },
  {
   "cell_type": "code",
   "execution_count": 1,
   "metadata": {},
   "outputs": [],
   "source": [
    "# 1. Import the required libraries\n",
    "\n",
    "from bs4 import BeautifulSoup\n",
    "import requests\n",
    "import pandas as pd"
   ]
  },
  {
   "cell_type": "markdown",
   "metadata": {},
   "source": [
    "## 2. Scraping the web page\n",
    "\n",
    "### 1. Scraping the raw text"
   ]
  },
  {
   "cell_type": "code",
   "execution_count": 2,
   "metadata": {},
   "outputs": [],
   "source": [
    "# 2. Scrape the Wikipedia page\n",
    "\n",
    "# Get the page source & save to source\n",
    "source = requests.get('https://en.wikipedia.org/wiki/List_of_postal_codes_of_Canada:_M').text\n",
    "\n",
    "# Scrape the page\n",
    "soup = BeautifulSoup(source, 'lxml')\n",
    "table = soup.find_all('table')[0] # Only grab the 1st table"
   ]
  },
  {
   "cell_type": "markdown",
   "metadata": {},
   "source": [
    "### 2. Extract the table\n",
    "\n",
    "It can be found that the required __Postal Code__, __Borough__, and __Neighborhood__ are all in the ```<tr>...</tr>``` tags in the __first table__. Thus, the table can be constructed by iterate all these tags and parse the corresponding entries into the data frame."
   ]
  },
  {
   "cell_type": "code",
   "execution_count": 3,
   "metadata": {},
   "outputs": [
    {
     "name": "stdout",
     "output_type": "stream",
     "text": [
      "212\n",
      "Number of unique post codes:  103\n"
     ]
    }
   ],
   "source": [
    "# Build the data frame\n",
    "column_names = ['PostalCode', 'Borough', 'Neighborhood']\n",
    "neigh_tor_df = pd.DataFrame(columns = column_names)\n",
    "\n",
    "# Ierate the <tr> tags while filtering the \"Not assigned\" rows\n",
    "for tr in table.find_all('tr')[2:]:\n",
    "    tds = tr.find_all('td')\n",
    "    \n",
    "    postalcode = tds[0].text\n",
    "    borough = tds[1].text\n",
    "    neighborhood = tds[2].text.strip('\\n') # Strip the '\\n' parameter\n",
    "        \n",
    "    # Ignore the \"Not assigned\" borough\n",
    "    if(borough !='Not assigned'):\n",
    "        if(neighborhood == 'Not assigned'):\n",
    "            neighborhood = borough\n",
    "        neigh_tor_df = neigh_tor_df.append({\n",
    "            'PostalCode': postalcode,\n",
    "            'Borough': borough,\n",
    "            'Neighborhood': neighborhood}, ignore_index = True)\n",
    "\n",
    "print(neigh_tor_df.shape[0]) # entire size\n",
    "print(\"Number of unique post codes: \", len(neigh_tor_df['PostalCode'].unique())) # Unique post codes"
   ]
  },
  {
   "cell_type": "markdown",
   "metadata": {},
   "source": [
    "### 3. Combine the neighborhoods for the same postal codes"
   ]
  },
  {
   "cell_type": "code",
   "execution_count": 4,
   "metadata": {},
   "outputs": [
    {
     "name": "stdout",
     "output_type": "stream",
     "text": [
      "Number of unique post codes:  103\n",
      "Number of post codes in cleaned data frame:  103\n"
     ]
    },
    {
     "data": {
      "text/html": [
       "<div>\n",
       "<style scoped>\n",
       "    .dataframe tbody tr th:only-of-type {\n",
       "        vertical-align: middle;\n",
       "    }\n",
       "\n",
       "    .dataframe tbody tr th {\n",
       "        vertical-align: top;\n",
       "    }\n",
       "\n",
       "    .dataframe thead th {\n",
       "        text-align: right;\n",
       "    }\n",
       "</style>\n",
       "<table border=\"1\" class=\"dataframe\">\n",
       "  <thead>\n",
       "    <tr style=\"text-align: right;\">\n",
       "      <th></th>\n",
       "      <th>PostalCode</th>\n",
       "      <th>Borough</th>\n",
       "      <th>Neighborhood</th>\n",
       "    </tr>\n",
       "  </thead>\n",
       "  <tbody>\n",
       "    <tr>\n",
       "      <th>0</th>\n",
       "      <td>M1B</td>\n",
       "      <td>Scarborough</td>\n",
       "      <td>Rouge, Malvern</td>\n",
       "    </tr>\n",
       "    <tr>\n",
       "      <th>1</th>\n",
       "      <td>M1C</td>\n",
       "      <td>Scarborough</td>\n",
       "      <td>Highland Creek, Rouge Hill, Port Union</td>\n",
       "    </tr>\n",
       "    <tr>\n",
       "      <th>2</th>\n",
       "      <td>M1E</td>\n",
       "      <td>Scarborough</td>\n",
       "      <td>Guildwood, Morningside, West Hill</td>\n",
       "    </tr>\n",
       "    <tr>\n",
       "      <th>3</th>\n",
       "      <td>M1G</td>\n",
       "      <td>Scarborough</td>\n",
       "      <td>Woburn</td>\n",
       "    </tr>\n",
       "    <tr>\n",
       "      <th>4</th>\n",
       "      <td>M1H</td>\n",
       "      <td>Scarborough</td>\n",
       "      <td>Cedarbrae</td>\n",
       "    </tr>\n",
       "  </tbody>\n",
       "</table>\n",
       "</div>"
      ],
      "text/plain": [
       "  PostalCode      Borough                            Neighborhood\n",
       "0        M1B  Scarborough                          Rouge, Malvern\n",
       "1        M1C  Scarborough  Highland Creek, Rouge Hill, Port Union\n",
       "2        M1E  Scarborough       Guildwood, Morningside, West Hill\n",
       "3        M1G  Scarborough                                  Woburn\n",
       "4        M1H  Scarborough                               Cedarbrae"
      ]
     },
     "execution_count": 4,
     "metadata": {},
     "output_type": "execute_result"
    }
   ],
   "source": [
    "# Combine the neighborhoods for the same \n",
    "neighborhood_aggregator = lambda a: \", \".join(a)\n",
    "df = neigh_tor_df.groupby('PostalCode').agg({'Borough': 'first', 'Neighborhood': neighborhood_aggregator}).reset_index()\n",
    "\n",
    "print(\"Number of unique post codes: \", len(neigh_tor_df['PostalCode'].unique())) # Unique post codes\n",
    "print(\"Number of post codes in cleaned data frame: \", df.shape[0])\n",
    "\n",
    "df.head()"
   ]
  },
  {
   "cell_type": "markdown",
   "metadata": {},
   "source": [
    "#### 4. Save the data frame to file for the next usages"
   ]
  },
  {
   "cell_type": "code",
   "execution_count": 6,
   "metadata": {},
   "outputs": [],
   "source": [
    "df.to_csv('Toronto_neighborhoods.csv', index = False)"
   ]
  },
  {
   "cell_type": "code",
   "execution_count": null,
   "metadata": {},
   "outputs": [],
   "source": []
  }
 ],
 "metadata": {
  "kernelspec": {
   "display_name": "Python 3",
   "language": "python",
   "name": "python3"
  },
  "language_info": {
   "codemirror_mode": {
    "name": "ipython",
    "version": 3
   },
   "file_extension": ".py",
   "mimetype": "text/x-python",
   "name": "python",
   "nbconvert_exporter": "python",
   "pygments_lexer": "ipython3",
   "version": "3.7.2"
  }
 },
 "nbformat": 4,
 "nbformat_minor": 2
}
